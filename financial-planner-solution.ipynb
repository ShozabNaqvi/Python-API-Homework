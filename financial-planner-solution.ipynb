{
 "cells": [
  {
   "cell_type": "markdown",
   "metadata": {},
   "source": [
    "# Unit 5 - Financial Planning\n"
   ]
  },
  {
   "cell_type": "code",
   "execution_count": 16,
   "metadata": {},
   "outputs": [],
   "source": [
    "# Initial imports\n",
    "import os\n",
    "import requests\n",
    "import pandas as pd\n",
    "from dotenv import load_dotenv\n",
    "import alpaca_trade_api as tradeapi\n",
    "from MCForecastTools import MCSimulation\n",
    "\n",
    "%matplotlib inline"
   ]
  },
  {
   "cell_type": "code",
   "execution_count": 17,
   "metadata": {},
   "outputs": [
    {
     "data": {
      "text/plain": [
       "True"
      ]
     },
     "execution_count": 17,
     "metadata": {},
     "output_type": "execute_result"
    }
   ],
   "source": [
    "# Load .env enviroment variables\n",
    "load_dotenv()"
   ]
  },
  {
   "cell_type": "markdown",
   "metadata": {},
   "source": [
    "## Part 1 - Personal Finance Planner"
   ]
  },
  {
   "cell_type": "markdown",
   "metadata": {},
   "source": [
    "### Collect Crypto Prices Using the `requests` Library"
   ]
  },
  {
   "cell_type": "code",
   "execution_count": 18,
   "metadata": {},
   "outputs": [],
   "source": [
    "# Set current amount of crypto assets\n",
    "BTC = 1.2\n",
    "ETH = 5.3\n",
    "# YOUR CODE HERE!"
   ]
  },
  {
   "cell_type": "code",
   "execution_count": 19,
   "metadata": {},
   "outputs": [],
   "source": [
    "# Crypto API URLs\n",
    "btc_url = \"https://api.alternative.me/v2/ticker/Bitcoin/?convert=CAD\"\n",
    "eth_url = \"https://api.alternative.me/v2/ticker/Ethereum/?convert=CAD\""
   ]
  },
  {
   "cell_type": "code",
   "execution_count": 20,
   "metadata": {},
   "outputs": [
    {
     "name": "stdout",
     "output_type": "stream",
     "text": [
      "The current value of your 1.2 BTC is $18749.18\n",
      "The current value of your 5.3 ETH is $2565.75\n"
     ]
    }
   ],
   "source": [
    "# Fetch current BTC price\n",
    "# YOUR CODE HERE!\n",
    "btc_response = requests.get(btc_url).json()\n",
    "btc_price = btc_response[\"data\"][\"1\"][\"quotes\"][\"CAD\"][\"price\"]\n",
    "# Fetch current ETH price\n",
    "# YOUR CODE HERE!]\n",
    "eth_response = requests.get(eth_url).json()\n",
    "eth_price = eth_response[\"data\"][\"1027\"][\"quotes\"][\"CAD\"][\"price\"]\n",
    "# Compute current value of my crpto\n",
    "# YOUR CODE HERE!\n",
    "my_btc_value = BTC * btc_price\n",
    "my_eth_value = ETH * eth_price\n",
    "\n",
    "#print(eth_response)\n",
    "# Print current crypto wallet balance\n",
    "print(f\"The current value of your {BTC} BTC is ${my_btc_value:0.2f}\")\n",
    "print(f\"The current value of your {ETH} ETH is ${my_eth_value:0.2f}\")"
   ]
  },
  {
   "cell_type": "markdown",
   "metadata": {},
   "source": [
    "### Collect Investments Data Using Alpaca: `SPY` (stocks) and `AGG` (bonds)"
   ]
  },
  {
   "cell_type": "code",
   "execution_count": 21,
   "metadata": {},
   "outputs": [],
   "source": [
    "# Current amount of shares\n",
    "# YOUR CODE HERE!\n",
    "\n",
    "AGG = 200\n",
    "SPY = 50 "
   ]
  },
  {
   "cell_type": "code",
   "execution_count": 22,
   "metadata": {},
   "outputs": [],
   "source": [
    "# Set Alpaca API key and secret\n",
    "alpaca_API_key = os.getenv(\"Alpaca_key\")\n",
    "alpaca_secret_key = os.getenv(\"Alpaca_secret_key\")\n",
    "\n",
    "# YOUR CODE HERE!\n",
    "\n",
    "# Create the Alpaca API object\n",
    "# YOUR CODE HERE!\n",
    "alpaca = tradeapi.REST(alpaca_API_key,alpaca_secret_key,api_version =\"v2\")"
   ]
  },
  {
   "cell_type": "code",
   "execution_count": 23,
   "metadata": {},
   "outputs": [
    {
     "data": {
      "text/html": [
       "<div>\n",
       "<style scoped>\n",
       "    .dataframe tbody tr th:only-of-type {\n",
       "        vertical-align: middle;\n",
       "    }\n",
       "\n",
       "    .dataframe tbody tr th {\n",
       "        vertical-align: top;\n",
       "    }\n",
       "\n",
       "    .dataframe thead tr th {\n",
       "        text-align: left;\n",
       "    }\n",
       "</style>\n",
       "<table border=\"1\" class=\"dataframe\">\n",
       "  <thead>\n",
       "    <tr>\n",
       "      <th></th>\n",
       "      <th colspan=\"5\" halign=\"left\">AGG</th>\n",
       "      <th colspan=\"5\" halign=\"left\">SPY</th>\n",
       "    </tr>\n",
       "    <tr>\n",
       "      <th></th>\n",
       "      <th>open</th>\n",
       "      <th>high</th>\n",
       "      <th>low</th>\n",
       "      <th>close</th>\n",
       "      <th>volume</th>\n",
       "      <th>open</th>\n",
       "      <th>high</th>\n",
       "      <th>low</th>\n",
       "      <th>close</th>\n",
       "      <th>volume</th>\n",
       "    </tr>\n",
       "  </thead>\n",
       "  <tbody>\n",
       "    <tr>\n",
       "      <th>2020-10-14 00:00:00-04:00</th>\n",
       "      <td>118.10</td>\n",
       "      <td>118.1100</td>\n",
       "      <td>117.985</td>\n",
       "      <td>118.040</td>\n",
       "      <td>3295967</td>\n",
       "      <td>350.75</td>\n",
       "      <td>351.93</td>\n",
       "      <td>347.14</td>\n",
       "      <td>347.97</td>\n",
       "      <td>47281475</td>\n",
       "    </tr>\n",
       "    <tr>\n",
       "      <th>2020-10-15 00:00:00-04:00</th>\n",
       "      <td>118.15</td>\n",
       "      <td>118.1500</td>\n",
       "      <td>117.960</td>\n",
       "      <td>117.970</td>\n",
       "      <td>4988612</td>\n",
       "      <td>343.71</td>\n",
       "      <td>348.02</td>\n",
       "      <td>343.13</td>\n",
       "      <td>347.51</td>\n",
       "      <td>50665477</td>\n",
       "    </tr>\n",
       "    <tr>\n",
       "      <th>2020-10-16 00:00:00-04:00</th>\n",
       "      <td>117.99</td>\n",
       "      <td>118.0778</td>\n",
       "      <td>117.880</td>\n",
       "      <td>117.880</td>\n",
       "      <td>3589312</td>\n",
       "      <td>348.96</td>\n",
       "      <td>350.75</td>\n",
       "      <td>347.10</td>\n",
       "      <td>347.25</td>\n",
       "      <td>62467863</td>\n",
       "    </tr>\n",
       "    <tr>\n",
       "      <th>2020-10-19 00:00:00-04:00</th>\n",
       "      <td>117.81</td>\n",
       "      <td>117.8600</td>\n",
       "      <td>117.720</td>\n",
       "      <td>117.787</td>\n",
       "      <td>3895071</td>\n",
       "      <td>348.62</td>\n",
       "      <td>349.33</td>\n",
       "      <td>341.04</td>\n",
       "      <td>342.02</td>\n",
       "      <td>51690440</td>\n",
       "    </tr>\n",
       "    <tr>\n",
       "      <th>2020-10-20 00:00:00-04:00</th>\n",
       "      <td>117.70</td>\n",
       "      <td>117.7100</td>\n",
       "      <td>117.580</td>\n",
       "      <td>117.640</td>\n",
       "      <td>3624855</td>\n",
       "      <td>343.46</td>\n",
       "      <td>346.88</td>\n",
       "      <td>342.64</td>\n",
       "      <td>343.34</td>\n",
       "      <td>48206853</td>\n",
       "    </tr>\n",
       "  </tbody>\n",
       "</table>\n",
       "</div>"
      ],
      "text/plain": [
       "                              AGG                                       \\\n",
       "                             open      high      low    close   volume   \n",
       "2020-10-14 00:00:00-04:00  118.10  118.1100  117.985  118.040  3295967   \n",
       "2020-10-15 00:00:00-04:00  118.15  118.1500  117.960  117.970  4988612   \n",
       "2020-10-16 00:00:00-04:00  117.99  118.0778  117.880  117.880  3589312   \n",
       "2020-10-19 00:00:00-04:00  117.81  117.8600  117.720  117.787  3895071   \n",
       "2020-10-20 00:00:00-04:00  117.70  117.7100  117.580  117.640  3624855   \n",
       "\n",
       "                              SPY                                    \n",
       "                             open    high     low   close    volume  \n",
       "2020-10-14 00:00:00-04:00  350.75  351.93  347.14  347.97  47281475  \n",
       "2020-10-15 00:00:00-04:00  343.71  348.02  343.13  347.51  50665477  \n",
       "2020-10-16 00:00:00-04:00  348.96  350.75  347.10  347.25  62467863  \n",
       "2020-10-19 00:00:00-04:00  348.62  349.33  341.04  342.02  51690440  \n",
       "2020-10-20 00:00:00-04:00  343.46  346.88  342.64  343.34  48206853  "
      ]
     },
     "execution_count": 23,
     "metadata": {},
     "output_type": "execute_result"
    }
   ],
   "source": [
    "# Format current date as ISO format\n",
    "# YOUR CODE HERE!\n",
    "today = pd.Timestamp(\"2020-10-14\").isoformat()\n",
    "# Set the tickers\n",
    "tickers = [\"AGG\", \"SPY\"]\n",
    "\n",
    "# Set timeframe to '1D' for Alpaca API\n",
    "timeframe = \"1D\"\n",
    "\n",
    "# Get current closing prices for SPY and AGG\n",
    "# YOUR CODE HERE!\n",
    "inv = alpaca.get_barset(tickers,timeframe,start=today).df\n",
    "# Preview DataFrame\n",
    "# YOUR CODE HERE!\n",
    "inv.tail()"
   ]
  },
  {
   "cell_type": "code",
   "execution_count": 24,
   "metadata": {},
   "outputs": [
    {
     "name": "stdout",
     "output_type": "stream",
     "text": [
      "Current AGG closing price: $117.64\n",
      "Current SPY closing price: $343.34\n"
     ]
    }
   ],
   "source": [
    "# Pick AGG and SPY close prices\n",
    "# YOUR CODE HERE!\n",
    "agg_close_price = inv[\"AGG\"][\"close\"][-1]\n",
    "spy_close_price = inv[\"SPY\"][\"close\"][-1]\n",
    "# Print AGG and SPY close prices\n",
    "print(f\"Current AGG closing price: ${agg_close_price}\")\n",
    "print(f\"Current SPY closing price: ${spy_close_price}\")"
   ]
  },
  {
   "cell_type": "code",
   "execution_count": 25,
   "metadata": {},
   "outputs": [
    {
     "name": "stdout",
     "output_type": "stream",
     "text": [
      "The current value of your 50 SPY shares is $17167.00\n",
      "The current value of your 200 AGG shares is $23528.00\n"
     ]
    }
   ],
   "source": [
    "# Compute the current value of shares\n",
    "# YOUR CODE HERE!\n",
    "my_agg_value = AGG * agg_close_price\n",
    "my_spy_value = SPY*spy_close_price\n",
    "\n",
    "# Print current value of share\n",
    "print(f\"The current value of your {SPY} SPY shares is ${my_spy_value:0.2f}\")\n",
    "print(f\"The current value of your {AGG} AGG shares is ${my_agg_value:0.2f}\")"
   ]
  },
  {
   "cell_type": "markdown",
   "metadata": {},
   "source": [
    "### Savings Health Analysis"
   ]
  },
  {
   "cell_type": "code",
   "execution_count": 26,
   "metadata": {},
   "outputs": [
    {
     "data": {
      "text/html": [
       "<div>\n",
       "<style scoped>\n",
       "    .dataframe tbody tr th:only-of-type {\n",
       "        vertical-align: middle;\n",
       "    }\n",
       "\n",
       "    .dataframe tbody tr th {\n",
       "        vertical-align: top;\n",
       "    }\n",
       "\n",
       "    .dataframe thead th {\n",
       "        text-align: right;\n",
       "    }\n",
       "</style>\n",
       "<table border=\"1\" class=\"dataframe\">\n",
       "  <thead>\n",
       "    <tr style=\"text-align: right;\">\n",
       "      <th></th>\n",
       "      <th>amount</th>\n",
       "    </tr>\n",
       "  </thead>\n",
       "  <tbody>\n",
       "    <tr>\n",
       "      <th>shares</th>\n",
       "      <td>40695.000000</td>\n",
       "    </tr>\n",
       "    <tr>\n",
       "      <th>crypto</th>\n",
       "      <td>21314.929506</td>\n",
       "    </tr>\n",
       "  </tbody>\n",
       "</table>\n",
       "</div>"
      ],
      "text/plain": [
       "              amount\n",
       "shares  40695.000000\n",
       "crypto  21314.929506"
      ]
     },
     "metadata": {},
     "output_type": "display_data"
    }
   ],
   "source": [
    "# Set monthly household income\n",
    "# YOUR CODE HERE!\n",
    "monthly_income = 12000\n",
    "\n",
    "# Create savings DataFrame\n",
    "# YOUR CODE HERE!\n",
    "savings = [my_agg_value + my_spy_value, my_btc_value + my_eth_value]\n",
    "df_savings = pd.DataFrame(savings, columns = [\"amount\"], index = [\"shares\" , \"crypto\"]) \n",
    "# Display savings DataFrame\n",
    "display(df_savings)"
   ]
  },
  {
   "cell_type": "code",
   "execution_count": 27,
   "metadata": {},
   "outputs": [
    {
     "data": {
      "text/plain": [
       "<matplotlib.axes._subplots.AxesSubplot at 0x232ff9ecdc8>"
      ]
     },
     "execution_count": 27,
     "metadata": {},
     "output_type": "execute_result"
    },
    {
     "data": {
      "image/png": "[encoded data removed]",
      "text/plain": [
       "<Figure size 432x288 with 1 Axes>"
      ]
     },
     "metadata": {},
     "output_type": "display_data"
    }
   ],
   "source": [
    "# Plot savings pie chart\n",
    "# YOUR CODE HERE!\n",
    "df_savings.plot.pie(y=\"amount\")"
   ]
  },
  {
   "cell_type": "code",
   "execution_count": 28,
   "metadata": {},
   "outputs": [
    {
     "name": "stdout",
     "output_type": "stream",
     "text": [
      " You have enough savings\n"
     ]
    }
   ],
   "source": [
    "# Set ideal emergency fund\n",
    "emergency_fund = monthly_income * 3\n",
    "\n",
    "# Calculate total amount of savings\n",
    "# YOUR CODE HERE!\n",
    "total_savings = df_savings.sum()\n",
    "# Validate saving health\n",
    "# YOUR CODE HERE!\n",
    "if float(total_savings)>(emergency_fund):\n",
    "    print(f\" You have enough savings\")\n",
    "else:\n",
    "    print(f\"Save more money\")"
   ]
  },
  {
   "cell_type": "markdown",
   "metadata": {},
   "source": [
    "## Part 2 - Retirement Planning\n",
    "\n",
    "### Monte Carlo Simulation"
   ]
  },
  {
   "cell_type": "code",
   "execution_count": 29,
   "metadata": {},
   "outputs": [],
   "source": [
    "# Set start and end dates of five years back from today.\n",
    "# Sample results may vary from the solution based on the time frame chosen\n",
    "start_date = pd.Timestamp('2015-08-07', tz='America/New_York').isoformat()\n",
    "end_date = pd.Timestamp('2020-08-07', tz='America/New_York').isoformat()"
   ]
  },
  {
   "cell_type": "code",
   "execution_count": 30,
   "metadata": {},
   "outputs": [
    {
     "data": {
      "text/html": [
       "<div>\n",
       "<style scoped>\n",
       "    .dataframe tbody tr th:only-of-type {\n",
       "        vertical-align: middle;\n",
       "    }\n",
       "\n",
       "    .dataframe tbody tr th {\n",
       "        vertical-align: top;\n",
       "    }\n",
       "\n",
       "    .dataframe thead tr th {\n",
       "        text-align: left;\n",
       "    }\n",
       "</style>\n",
       "<table border=\"1\" class=\"dataframe\">\n",
       "  <thead>\n",
       "    <tr>\n",
       "      <th></th>\n",
       "      <th colspan=\"5\" halign=\"left\">AGG</th>\n",
       "      <th colspan=\"5\" halign=\"left\">SPY</th>\n",
       "    </tr>\n",
       "    <tr>\n",
       "      <th></th>\n",
       "      <th>open</th>\n",
       "      <th>high</th>\n",
       "      <th>low</th>\n",
       "      <th>close</th>\n",
       "      <th>volume</th>\n",
       "      <th>open</th>\n",
       "      <th>high</th>\n",
       "      <th>low</th>\n",
       "      <th>close</th>\n",
       "      <th>volume</th>\n",
       "    </tr>\n",
       "  </thead>\n",
       "  <tbody>\n",
       "    <tr>\n",
       "      <th>2015-08-07 00:00:00-04:00</th>\n",
       "      <td>109.14</td>\n",
       "      <td>109.2750</td>\n",
       "      <td>109.035</td>\n",
       "      <td>109.21</td>\n",
       "      <td>2041167.0</td>\n",
       "      <td>208.16</td>\n",
       "      <td>208.34</td>\n",
       "      <td>206.87</td>\n",
       "      <td>207.93</td>\n",
       "      <td>87669782</td>\n",
       "    </tr>\n",
       "    <tr>\n",
       "      <th>2015-08-10 00:00:00-04:00</th>\n",
       "      <td>109.15</td>\n",
       "      <td>109.1700</td>\n",
       "      <td>108.920</td>\n",
       "      <td>109.06</td>\n",
       "      <td>1149778.0</td>\n",
       "      <td>209.28</td>\n",
       "      <td>210.67</td>\n",
       "      <td>209.28</td>\n",
       "      <td>210.58</td>\n",
       "      <td>66755890</td>\n",
       "    </tr>\n",
       "    <tr>\n",
       "      <th>2015-08-11 00:00:00-04:00</th>\n",
       "      <td>109.42</td>\n",
       "      <td>109.5765</td>\n",
       "      <td>109.284</td>\n",
       "      <td>109.42</td>\n",
       "      <td>1420907.0</td>\n",
       "      <td>208.98</td>\n",
       "      <td>209.47</td>\n",
       "      <td>207.76</td>\n",
       "      <td>208.63</td>\n",
       "      <td>88424557</td>\n",
       "    </tr>\n",
       "    <tr>\n",
       "      <th>2015-08-12 00:00:00-04:00</th>\n",
       "      <td>109.55</td>\n",
       "      <td>109.7100</td>\n",
       "      <td>109.350</td>\n",
       "      <td>109.36</td>\n",
       "      <td>1468979.0</td>\n",
       "      <td>207.11</td>\n",
       "      <td>209.14</td>\n",
       "      <td>205.36</td>\n",
       "      <td>208.89</td>\n",
       "      <td>136171450</td>\n",
       "    </tr>\n",
       "    <tr>\n",
       "      <th>2015-08-13 00:00:00-04:00</th>\n",
       "      <td>109.36</td>\n",
       "      <td>109.3651</td>\n",
       "      <td>109.110</td>\n",
       "      <td>109.15</td>\n",
       "      <td>1465173.0</td>\n",
       "      <td>208.73</td>\n",
       "      <td>209.55</td>\n",
       "      <td>208.01</td>\n",
       "      <td>208.63</td>\n",
       "      <td>77197796</td>\n",
       "    </tr>\n",
       "  </tbody>\n",
       "</table>\n",
       "</div>"
      ],
      "text/plain": [
       "                              AGG                                        \\\n",
       "                             open      high      low   close     volume   \n",
       "2015-08-07 00:00:00-04:00  109.14  109.2750  109.035  109.21  2041167.0   \n",
       "2015-08-10 00:00:00-04:00  109.15  109.1700  108.920  109.06  1149778.0   \n",
       "2015-08-11 00:00:00-04:00  109.42  109.5765  109.284  109.42  1420907.0   \n",
       "2015-08-12 00:00:00-04:00  109.55  109.7100  109.350  109.36  1468979.0   \n",
       "2015-08-13 00:00:00-04:00  109.36  109.3651  109.110  109.15  1465173.0   \n",
       "\n",
       "                              SPY                                     \n",
       "                             open    high     low   close     volume  \n",
       "2015-08-07 00:00:00-04:00  208.16  208.34  206.87  207.93   87669782  \n",
       "2015-08-10 00:00:00-04:00  209.28  210.67  209.28  210.58   66755890  \n",
       "2015-08-11 00:00:00-04:00  208.98  209.47  207.76  208.63   88424557  \n",
       "2015-08-12 00:00:00-04:00  207.11  209.14  205.36  208.89  136171450  \n",
       "2015-08-13 00:00:00-04:00  208.73  209.55  208.01  208.63   77197796  "
      ]
     },
     "execution_count": 30,
     "metadata": {},
     "output_type": "execute_result"
    }
   ],
   "source": [
    "# Get 5 years' worth of historical data for SPY and AGG\n",
    "# YOUR CODE HERE!\n",
    "df_stock_data = alpaca.get_barset(tickers, timeframe, start = start_date , end = end_date).df\n",
    "# Display sample data\n",
    "df_stock_data.head()"
   ]
  },
  {
   "cell_type": "code",
   "execution_count": 31,
   "metadata": {},
   "outputs": [],
   "source": [
    "# Configuring a Monte Carlo simulation to forecast 30 years cumulative returns\n",
    "# YOUR CODE HERE!\n",
    "mc30 = MCSimulation(portfolio_data = df_stock_data, weights = [.4,.6] , num_simulation = 500, num_trading_days = 252*30)"
   ]
  },
  {
   "cell_type": "code",
   "execution_count": 33,
   "metadata": {},
   "outputs": [
    {
     "data": {
      "text/html": [
       "<div>\n",
       "<style scoped>\n",
       "    .dataframe tbody tr th:only-of-type {\n",
       "        vertical-align: middle;\n",
       "    }\n",
       "\n",
       "    .dataframe tbody tr th {\n",
       "        vertical-align: top;\n",
       "    }\n",
       "\n",
       "    .dataframe thead tr th {\n",
       "        text-align: left;\n",
       "    }\n",
       "</style>\n",
       "<table border=\"1\" class=\"dataframe\">\n",
       "  <thead>\n",
       "    <tr>\n",
       "      <th></th>\n",
       "      <th colspan=\"6\" halign=\"left\">AGG</th>\n",
       "      <th colspan=\"6\" halign=\"left\">SPY</th>\n",
       "    </tr>\n",
       "    <tr>\n",
       "      <th></th>\n",
       "      <th>open</th>\n",
       "      <th>high</th>\n",
       "      <th>low</th>\n",
       "      <th>close</th>\n",
       "      <th>volume</th>\n",
       "      <th>daily_return</th>\n",
       "      <th>open</th>\n",
       "      <th>high</th>\n",
       "      <th>low</th>\n",
       "      <th>close</th>\n",
       "      <th>volume</th>\n",
       "      <th>daily_return</th>\n",
       "    </tr>\n",
       "  </thead>\n",
       "  <tbody>\n",
       "    <tr>\n",
       "      <th>2015-08-07 00:00:00-04:00</th>\n",
       "      <td>109.14</td>\n",
       "      <td>109.2750</td>\n",
       "      <td>109.0350</td>\n",
       "      <td>109.210</td>\n",
       "      <td>2041167.0</td>\n",
       "      <td>NaN</td>\n",
       "      <td>208.1600</td>\n",
       "      <td>208.34</td>\n",
       "      <td>206.87</td>\n",
       "      <td>207.93</td>\n",
       "      <td>87669782</td>\n",
       "      <td>NaN</td>\n",
       "    </tr>\n",
       "    <tr>\n",
       "      <th>2015-08-10 00:00:00-04:00</th>\n",
       "      <td>109.15</td>\n",
       "      <td>109.1700</td>\n",
       "      <td>108.9200</td>\n",
       "      <td>109.060</td>\n",
       "      <td>1149778.0</td>\n",
       "      <td>-0.001374</td>\n",
       "      <td>209.2800</td>\n",
       "      <td>210.67</td>\n",
       "      <td>209.28</td>\n",
       "      <td>210.58</td>\n",
       "      <td>66755890</td>\n",
       "      <td>0.012745</td>\n",
       "    </tr>\n",
       "    <tr>\n",
       "      <th>2015-08-11 00:00:00-04:00</th>\n",
       "      <td>109.42</td>\n",
       "      <td>109.5765</td>\n",
       "      <td>109.2840</td>\n",
       "      <td>109.420</td>\n",
       "      <td>1420907.0</td>\n",
       "      <td>0.003301</td>\n",
       "      <td>208.9800</td>\n",
       "      <td>209.47</td>\n",
       "      <td>207.76</td>\n",
       "      <td>208.63</td>\n",
       "      <td>88424557</td>\n",
       "      <td>-0.009260</td>\n",
       "    </tr>\n",
       "    <tr>\n",
       "      <th>2015-08-12 00:00:00-04:00</th>\n",
       "      <td>109.55</td>\n",
       "      <td>109.7100</td>\n",
       "      <td>109.3500</td>\n",
       "      <td>109.360</td>\n",
       "      <td>1468979.0</td>\n",
       "      <td>-0.000548</td>\n",
       "      <td>207.1100</td>\n",
       "      <td>209.14</td>\n",
       "      <td>205.36</td>\n",
       "      <td>208.89</td>\n",
       "      <td>136171450</td>\n",
       "      <td>0.001246</td>\n",
       "    </tr>\n",
       "    <tr>\n",
       "      <th>2015-08-13 00:00:00-04:00</th>\n",
       "      <td>109.36</td>\n",
       "      <td>109.3651</td>\n",
       "      <td>109.1100</td>\n",
       "      <td>109.150</td>\n",
       "      <td>1465173.0</td>\n",
       "      <td>-0.001920</td>\n",
       "      <td>208.7300</td>\n",
       "      <td>209.55</td>\n",
       "      <td>208.01</td>\n",
       "      <td>208.63</td>\n",
       "      <td>77197796</td>\n",
       "      <td>-0.001245</td>\n",
       "    </tr>\n",
       "    <tr>\n",
       "      <th>...</th>\n",
       "      <td>...</td>\n",
       "      <td>...</td>\n",
       "      <td>...</td>\n",
       "      <td>...</td>\n",
       "      <td>...</td>\n",
       "      <td>...</td>\n",
       "      <td>...</td>\n",
       "      <td>...</td>\n",
       "      <td>...</td>\n",
       "      <td>...</td>\n",
       "      <td>...</td>\n",
       "      <td>...</td>\n",
       "    </tr>\n",
       "    <tr>\n",
       "      <th>2020-08-03 00:00:00-04:00</th>\n",
       "      <td>119.37</td>\n",
       "      <td>119.4000</td>\n",
       "      <td>119.1903</td>\n",
       "      <td>119.400</td>\n",
       "      <td>17837420.0</td>\n",
       "      <td>-0.001338</td>\n",
       "      <td>328.3200</td>\n",
       "      <td>329.62</td>\n",
       "      <td>327.73</td>\n",
       "      <td>328.76</td>\n",
       "      <td>71741125</td>\n",
       "      <td>0.006768</td>\n",
       "    </tr>\n",
       "    <tr>\n",
       "      <th>2020-08-04 00:00:00-04:00</th>\n",
       "      <td>119.42</td>\n",
       "      <td>119.6300</td>\n",
       "      <td>119.4200</td>\n",
       "      <td>119.630</td>\n",
       "      <td>21512268.0</td>\n",
       "      <td>0.001926</td>\n",
       "      <td>327.8600</td>\n",
       "      <td>330.06</td>\n",
       "      <td>327.86</td>\n",
       "      <td>330.03</td>\n",
       "      <td>73684427</td>\n",
       "      <td>0.003863</td>\n",
       "    </tr>\n",
       "    <tr>\n",
       "      <th>2020-08-05 00:00:00-04:00</th>\n",
       "      <td>119.39</td>\n",
       "      <td>119.4900</td>\n",
       "      <td>119.3100</td>\n",
       "      <td>119.400</td>\n",
       "      <td>34175883.0</td>\n",
       "      <td>-0.001923</td>\n",
       "      <td>331.4700</td>\n",
       "      <td>332.39</td>\n",
       "      <td>331.18</td>\n",
       "      <td>332.06</td>\n",
       "      <td>72846458</td>\n",
       "      <td>0.006151</td>\n",
       "    </tr>\n",
       "    <tr>\n",
       "      <th>2020-08-06 00:00:00-04:00</th>\n",
       "      <td>119.62</td>\n",
       "      <td>119.7300</td>\n",
       "      <td>119.5300</td>\n",
       "      <td>119.580</td>\n",
       "      <td>9009216.0</td>\n",
       "      <td>0.001508</td>\n",
       "      <td>331.4799</td>\n",
       "      <td>334.46</td>\n",
       "      <td>331.13</td>\n",
       "      <td>334.31</td>\n",
       "      <td>76900649</td>\n",
       "      <td>0.006776</td>\n",
       "    </tr>\n",
       "    <tr>\n",
       "      <th>2020-08-07 00:00:00-04:00</th>\n",
       "      <td>119.66</td>\n",
       "      <td>119.7300</td>\n",
       "      <td>119.3950</td>\n",
       "      <td>119.445</td>\n",
       "      <td>8830420.0</td>\n",
       "      <td>-0.001129</td>\n",
       "      <td>333.2800</td>\n",
       "      <td>334.88</td>\n",
       "      <td>332.30</td>\n",
       "      <td>334.55</td>\n",
       "      <td>98710236</td>\n",
       "      <td>0.000718</td>\n",
       "    </tr>\n",
       "  </tbody>\n",
       "</table>\n",
       "<p>1260 rows × 12 columns</p>\n",
       "</div>"
      ],
      "text/plain": [
       "                              AGG                                           \\\n",
       "                             open      high       low    close      volume   \n",
       "2015-08-07 00:00:00-04:00  109.14  109.2750  109.0350  109.210   2041167.0   \n",
       "2015-08-10 00:00:00-04:00  109.15  109.1700  108.9200  109.060   1149778.0   \n",
       "2015-08-11 00:00:00-04:00  109.42  109.5765  109.2840  109.420   1420907.0   \n",
       "2015-08-12 00:00:00-04:00  109.55  109.7100  109.3500  109.360   1468979.0   \n",
       "2015-08-13 00:00:00-04:00  109.36  109.3651  109.1100  109.150   1465173.0   \n",
       "...                           ...       ...       ...      ...         ...   \n",
       "2020-08-03 00:00:00-04:00  119.37  119.4000  119.1903  119.400  17837420.0   \n",
       "2020-08-04 00:00:00-04:00  119.42  119.6300  119.4200  119.630  21512268.0   \n",
       "2020-08-05 00:00:00-04:00  119.39  119.4900  119.3100  119.400  34175883.0   \n",
       "2020-08-06 00:00:00-04:00  119.62  119.7300  119.5300  119.580   9009216.0   \n",
       "2020-08-07 00:00:00-04:00  119.66  119.7300  119.3950  119.445   8830420.0   \n",
       "\n",
       "                                             SPY                          \\\n",
       "                          daily_return      open    high     low   close   \n",
       "2015-08-07 00:00:00-04:00          NaN  208.1600  208.34  206.87  207.93   \n",
       "2015-08-10 00:00:00-04:00    -0.001374  209.2800  210.67  209.28  210.58   \n",
       "2015-08-11 00:00:00-04:00     0.003301  208.9800  209.47  207.76  208.63   \n",
       "2015-08-12 00:00:00-04:00    -0.000548  207.1100  209.14  205.36  208.89   \n",
       "2015-08-13 00:00:00-04:00    -0.001920  208.7300  209.55  208.01  208.63   \n",
       "...                                ...       ...     ...     ...     ...   \n",
       "2020-08-03 00:00:00-04:00    -0.001338  328.3200  329.62  327.73  328.76   \n",
       "2020-08-04 00:00:00-04:00     0.001926  327.8600  330.06  327.86  330.03   \n",
       "2020-08-05 00:00:00-04:00    -0.001923  331.4700  332.39  331.18  332.06   \n",
       "2020-08-06 00:00:00-04:00     0.001508  331.4799  334.46  331.13  334.31   \n",
       "2020-08-07 00:00:00-04:00    -0.001129  333.2800  334.88  332.30  334.55   \n",
       "\n",
       "                                                   \n",
       "                              volume daily_return  \n",
       "2015-08-07 00:00:00-04:00   87669782          NaN  \n",
       "2015-08-10 00:00:00-04:00   66755890     0.012745  \n",
       "2015-08-11 00:00:00-04:00   88424557    -0.009260  \n",
       "2015-08-12 00:00:00-04:00  136171450     0.001246  \n",
       "2015-08-13 00:00:00-04:00   77197796    -0.001245  \n",
       "...                              ...          ...  \n",
       "2020-08-03 00:00:00-04:00   71741125     0.006768  \n",
       "2020-08-04 00:00:00-04:00   73684427     0.003863  \n",
       "2020-08-05 00:00:00-04:00   72846458     0.006151  \n",
       "2020-08-06 00:00:00-04:00   76900649     0.006776  \n",
       "2020-08-07 00:00:00-04:00   98710236     0.000718  \n",
       "\n",
       "[1260 rows x 12 columns]"
      ]
     },
     "execution_count": 33,
     "metadata": {},
     "output_type": "execute_result"
    }
   ],
   "source": [
    "# Printing the simulation input data\n",
    "# YOUR CODE HERE!\n",
    "mc30.portfolio_data"
   ]
  },
  {
   "cell_type": "code",
   "execution_count": 34,
   "metadata": {},
   "outputs": [
    {
     "name": "stdout",
     "output_type": "stream",
     "text": [
      "Running Monte Carlo simulation number 0.\n",
      "Running Monte Carlo simulation number 10.\n",
      "Running Monte Carlo simulation number 20.\n",
      "Running Monte Carlo simulation number 30.\n",
      "Running Monte Carlo simulation number 40.\n",
      "Running Monte Carlo simulation number 50.\n",
      "Running Monte Carlo simulation number 60.\n",
      "Running Monte Carlo simulation number 70.\n",
      "Running Monte Carlo simulation number 80.\n",
      "Running Monte Carlo simulation number 90.\n",
      "Running Monte Carlo simulation number 100.\n",
      "Running Monte Carlo simulation number 110.\n",
      "Running Monte Carlo simulation number 120.\n",
      "Running Monte Carlo simulation number 130.\n",
      "Running Monte Carlo simulation number 140.\n",
      "Running Monte Carlo simulation number 150.\n",
      "Running Monte Carlo simulation number 160.\n",
      "Running Monte Carlo simulation number 170.\n",
      "Running Monte Carlo simulation number 180.\n",
      "Running Monte Carlo simulation number 190.\n",
      "Running Monte Carlo simulation number 200.\n",
      "Running Monte Carlo simulation number 210.\n",
      "Running Monte Carlo simulation number 220.\n",
      "Running Monte Carlo simulation number 230.\n",
      "Running Monte Carlo simulation number 240.\n",
      "Running Monte Carlo simulation number 250.\n",
      "Running Monte Carlo simulation number 260.\n",
      "Running Monte Carlo simulation number 270.\n",
      "Running Monte Carlo simulation number 280.\n",
      "Running Monte Carlo simulation number 290.\n",
      "Running Monte Carlo simulation number 300.\n",
      "Running Monte Carlo simulation number 310.\n",
      "Running Monte Carlo simulation number 320.\n",
      "Running Monte Carlo simulation number 330.\n",
      "Running Monte Carlo simulation number 340.\n",
      "Running Monte Carlo simulation number 350.\n",
      "Running Monte Carlo simulation number 360.\n",
      "Running Monte Carlo simulation number 370.\n",
      "Running Monte Carlo simulation number 380.\n",
      "Running Monte Carlo simulation number 390.\n",
      "Running Monte Carlo simulation number 400.\n",
      "Running Monte Carlo simulation number 410.\n",
      "Running Monte Carlo simulation number 420.\n",
      "Running Monte Carlo simulation number 430.\n",
      "Running Monte Carlo simulation number 440.\n",
      "Running Monte Carlo simulation number 450.\n",
      "Running Monte Carlo simulation number 460.\n",
      "Running Monte Carlo simulation number 470.\n",
      "Running Monte Carlo simulation number 480.\n",
      "Running Monte Carlo simulation number 490.\n"
     ]
    },
    {
     "data": {
      "text/html": [
       "<div>\n",
       "<style scoped>\n",
       "    .dataframe tbody tr th:only-of-type {\n",
       "        vertical-align: middle;\n",
       "    }\n",
       "\n",
       "    .dataframe tbody tr th {\n",
       "        vertical-align: top;\n",
       "    }\n",
       "\n",
       "    .dataframe thead th {\n",
       "        text-align: right;\n",
       "    }\n",
       "</style>\n",
       "<table border=\"1\" class=\"dataframe\">\n",
       "  <thead>\n",
       "    <tr style=\"text-align: right;\">\n",
       "      <th></th>\n",
       "      <th>0</th>\n",
       "      <th>1</th>\n",
       "      <th>2</th>\n",
       "      <th>3</th>\n",
       "      <th>4</th>\n",
       "      <th>5</th>\n",
       "      <th>6</th>\n",
       "      <th>7</th>\n",
       "      <th>8</th>\n",
       "      <th>9</th>\n",
       "      <th>...</th>\n",
       "      <th>490</th>\n",
       "      <th>491</th>\n",
       "      <th>492</th>\n",
       "      <th>493</th>\n",
       "      <th>494</th>\n",
       "      <th>495</th>\n",
       "      <th>496</th>\n",
       "      <th>497</th>\n",
       "      <th>498</th>\n",
       "      <th>499</th>\n",
       "    </tr>\n",
       "  </thead>\n",
       "  <tbody>\n",
       "    <tr>\n",
       "      <th>0</th>\n",
       "      <td>1.000000</td>\n",
       "      <td>1.000000</td>\n",
       "      <td>1.000000</td>\n",
       "      <td>1.000000</td>\n",
       "      <td>1.000000</td>\n",
       "      <td>1.000000</td>\n",
       "      <td>1.000000</td>\n",
       "      <td>1.000000</td>\n",
       "      <td>1.000000</td>\n",
       "      <td>1.000000</td>\n",
       "      <td>...</td>\n",
       "      <td>1.000000</td>\n",
       "      <td>1.000000</td>\n",
       "      <td>1.000000</td>\n",
       "      <td>1.000000</td>\n",
       "      <td>1.000000</td>\n",
       "      <td>1.000000</td>\n",
       "      <td>1.000000</td>\n",
       "      <td>1.000000</td>\n",
       "      <td>1.000000</td>\n",
       "      <td>1.000000</td>\n",
       "    </tr>\n",
       "    <tr>\n",
       "      <th>1</th>\n",
       "      <td>0.999494</td>\n",
       "      <td>1.008220</td>\n",
       "      <td>1.000776</td>\n",
       "      <td>1.011750</td>\n",
       "      <td>1.004952</td>\n",
       "      <td>1.004180</td>\n",
       "      <td>1.004543</td>\n",
       "      <td>0.982159</td>\n",
       "      <td>0.999519</td>\n",
       "      <td>0.992138</td>\n",
       "      <td>...</td>\n",
       "      <td>0.990302</td>\n",
       "      <td>0.993185</td>\n",
       "      <td>1.004064</td>\n",
       "      <td>1.002658</td>\n",
       "      <td>1.020943</td>\n",
       "      <td>1.017036</td>\n",
       "      <td>1.003328</td>\n",
       "      <td>0.997250</td>\n",
       "      <td>1.007918</td>\n",
       "      <td>0.991587</td>\n",
       "    </tr>\n",
       "    <tr>\n",
       "      <th>2</th>\n",
       "      <td>0.996889</td>\n",
       "      <td>0.998216</td>\n",
       "      <td>1.011316</td>\n",
       "      <td>1.015524</td>\n",
       "      <td>0.988485</td>\n",
       "      <td>1.007247</td>\n",
       "      <td>1.003830</td>\n",
       "      <td>0.978933</td>\n",
       "      <td>1.004575</td>\n",
       "      <td>1.001734</td>\n",
       "      <td>...</td>\n",
       "      <td>0.990390</td>\n",
       "      <td>0.999041</td>\n",
       "      <td>1.009717</td>\n",
       "      <td>1.003231</td>\n",
       "      <td>1.011568</td>\n",
       "      <td>1.004497</td>\n",
       "      <td>0.996709</td>\n",
       "      <td>0.990932</td>\n",
       "      <td>1.020502</td>\n",
       "      <td>0.991067</td>\n",
       "    </tr>\n",
       "    <tr>\n",
       "      <th>3</th>\n",
       "      <td>1.012246</td>\n",
       "      <td>1.000159</td>\n",
       "      <td>1.010962</td>\n",
       "      <td>1.016505</td>\n",
       "      <td>0.984429</td>\n",
       "      <td>1.013420</td>\n",
       "      <td>1.004330</td>\n",
       "      <td>0.987380</td>\n",
       "      <td>1.000662</td>\n",
       "      <td>1.008790</td>\n",
       "      <td>...</td>\n",
       "      <td>0.998990</td>\n",
       "      <td>1.000570</td>\n",
       "      <td>1.000848</td>\n",
       "      <td>1.000693</td>\n",
       "      <td>1.016930</td>\n",
       "      <td>1.014965</td>\n",
       "      <td>1.014573</td>\n",
       "      <td>0.986259</td>\n",
       "      <td>1.025444</td>\n",
       "      <td>0.994401</td>\n",
       "    </tr>\n",
       "    <tr>\n",
       "      <th>4</th>\n",
       "      <td>1.015146</td>\n",
       "      <td>0.983030</td>\n",
       "      <td>1.003025</td>\n",
       "      <td>1.023775</td>\n",
       "      <td>0.983774</td>\n",
       "      <td>1.006717</td>\n",
       "      <td>0.985014</td>\n",
       "      <td>0.990770</td>\n",
       "      <td>1.008702</td>\n",
       "      <td>1.007039</td>\n",
       "      <td>...</td>\n",
       "      <td>0.999761</td>\n",
       "      <td>1.009224</td>\n",
       "      <td>0.995155</td>\n",
       "      <td>1.002037</td>\n",
       "      <td>1.008976</td>\n",
       "      <td>1.017552</td>\n",
       "      <td>1.016681</td>\n",
       "      <td>0.992582</td>\n",
       "      <td>1.020600</td>\n",
       "      <td>1.005796</td>\n",
       "    </tr>\n",
       "    <tr>\n",
       "      <th>...</th>\n",
       "      <td>...</td>\n",
       "      <td>...</td>\n",
       "      <td>...</td>\n",
       "      <td>...</td>\n",
       "      <td>...</td>\n",
       "      <td>...</td>\n",
       "      <td>...</td>\n",
       "      <td>...</td>\n",
       "      <td>...</td>\n",
       "      <td>...</td>\n",
       "      <td>...</td>\n",
       "      <td>...</td>\n",
       "      <td>...</td>\n",
       "      <td>...</td>\n",
       "      <td>...</td>\n",
       "      <td>...</td>\n",
       "      <td>...</td>\n",
       "      <td>...</td>\n",
       "      <td>...</td>\n",
       "      <td>...</td>\n",
       "      <td>...</td>\n",
       "    </tr>\n",
       "    <tr>\n",
       "      <th>7556</th>\n",
       "      <td>5.289643</td>\n",
       "      <td>5.693024</td>\n",
       "      <td>17.996198</td>\n",
       "      <td>13.888868</td>\n",
       "      <td>2.162366</td>\n",
       "      <td>4.686705</td>\n",
       "      <td>3.647560</td>\n",
       "      <td>10.175972</td>\n",
       "      <td>11.955528</td>\n",
       "      <td>3.046099</td>\n",
       "      <td>...</td>\n",
       "      <td>10.244042</td>\n",
       "      <td>11.620940</td>\n",
       "      <td>15.039789</td>\n",
       "      <td>5.496576</td>\n",
       "      <td>9.215160</td>\n",
       "      <td>16.758560</td>\n",
       "      <td>2.055260</td>\n",
       "      <td>9.319188</td>\n",
       "      <td>6.402480</td>\n",
       "      <td>3.177054</td>\n",
       "    </tr>\n",
       "    <tr>\n",
       "      <th>7557</th>\n",
       "      <td>5.276745</td>\n",
       "      <td>5.762939</td>\n",
       "      <td>17.997288</td>\n",
       "      <td>13.818607</td>\n",
       "      <td>2.186246</td>\n",
       "      <td>4.713399</td>\n",
       "      <td>3.683055</td>\n",
       "      <td>10.189886</td>\n",
       "      <td>11.821204</td>\n",
       "      <td>3.066815</td>\n",
       "      <td>...</td>\n",
       "      <td>10.300259</td>\n",
       "      <td>11.727274</td>\n",
       "      <td>15.092744</td>\n",
       "      <td>5.499233</td>\n",
       "      <td>9.240690</td>\n",
       "      <td>16.659250</td>\n",
       "      <td>2.047357</td>\n",
       "      <td>9.311632</td>\n",
       "      <td>6.413340</td>\n",
       "      <td>3.208678</td>\n",
       "    </tr>\n",
       "    <tr>\n",
       "      <th>7558</th>\n",
       "      <td>5.295536</td>\n",
       "      <td>5.828375</td>\n",
       "      <td>17.954043</td>\n",
       "      <td>13.791356</td>\n",
       "      <td>2.204449</td>\n",
       "      <td>4.695263</td>\n",
       "      <td>3.712695</td>\n",
       "      <td>10.129744</td>\n",
       "      <td>11.941442</td>\n",
       "      <td>3.031465</td>\n",
       "      <td>...</td>\n",
       "      <td>10.309688</td>\n",
       "      <td>11.729409</td>\n",
       "      <td>15.102757</td>\n",
       "      <td>5.540125</td>\n",
       "      <td>9.349191</td>\n",
       "      <td>16.565101</td>\n",
       "      <td>2.007416</td>\n",
       "      <td>9.356990</td>\n",
       "      <td>6.424694</td>\n",
       "      <td>3.239286</td>\n",
       "    </tr>\n",
       "    <tr>\n",
       "      <th>7559</th>\n",
       "      <td>5.289329</td>\n",
       "      <td>5.788964</td>\n",
       "      <td>17.931877</td>\n",
       "      <td>13.911767</td>\n",
       "      <td>2.190247</td>\n",
       "      <td>4.620658</td>\n",
       "      <td>3.703423</td>\n",
       "      <td>10.285005</td>\n",
       "      <td>11.933944</td>\n",
       "      <td>3.009685</td>\n",
       "      <td>...</td>\n",
       "      <td>10.320842</td>\n",
       "      <td>11.784907</td>\n",
       "      <td>15.032742</td>\n",
       "      <td>5.549878</td>\n",
       "      <td>9.406175</td>\n",
       "      <td>16.610850</td>\n",
       "      <td>2.011950</td>\n",
       "      <td>9.319786</td>\n",
       "      <td>6.456777</td>\n",
       "      <td>3.296710</td>\n",
       "    </tr>\n",
       "    <tr>\n",
       "      <th>7560</th>\n",
       "      <td>5.301603</td>\n",
       "      <td>5.821890</td>\n",
       "      <td>17.765142</td>\n",
       "      <td>13.953760</td>\n",
       "      <td>2.181061</td>\n",
       "      <td>4.643769</td>\n",
       "      <td>3.686655</td>\n",
       "      <td>10.216499</td>\n",
       "      <td>11.984573</td>\n",
       "      <td>3.001561</td>\n",
       "      <td>...</td>\n",
       "      <td>10.124251</td>\n",
       "      <td>11.785534</td>\n",
       "      <td>15.196286</td>\n",
       "      <td>5.629775</td>\n",
       "      <td>9.419682</td>\n",
       "      <td>16.591685</td>\n",
       "      <td>2.001679</td>\n",
       "      <td>9.318641</td>\n",
       "      <td>6.473551</td>\n",
       "      <td>3.297034</td>\n",
       "    </tr>\n",
       "  </tbody>\n",
       "</table>\n",
       "<p>7561 rows × 500 columns</p>\n",
       "</div>"
      ],
      "text/plain": [
       "           0         1          2          3         4         5         6    \\\n",
       "0     1.000000  1.000000   1.000000   1.000000  1.000000  1.000000  1.000000   \n",
       "1     0.999494  1.008220   1.000776   1.011750  1.004952  1.004180  1.004543   \n",
       "2     0.996889  0.998216   1.011316   1.015524  0.988485  1.007247  1.003830   \n",
       "3     1.012246  1.000159   1.010962   1.016505  0.984429  1.013420  1.004330   \n",
       "4     1.015146  0.983030   1.003025   1.023775  0.983774  1.006717  0.985014   \n",
       "...        ...       ...        ...        ...       ...       ...       ...   \n",
       "7556  5.289643  5.693024  17.996198  13.888868  2.162366  4.686705  3.647560   \n",
       "7557  5.276745  5.762939  17.997288  13.818607  2.186246  4.713399  3.683055   \n",
       "7558  5.295536  5.828375  17.954043  13.791356  2.204449  4.695263  3.712695   \n",
       "7559  5.289329  5.788964  17.931877  13.911767  2.190247  4.620658  3.703423   \n",
       "7560  5.301603  5.821890  17.765142  13.953760  2.181061  4.643769  3.686655   \n",
       "\n",
       "            7          8         9    ...        490        491        492  \\\n",
       "0      1.000000   1.000000  1.000000  ...   1.000000   1.000000   1.000000   \n",
       "1      0.982159   0.999519  0.992138  ...   0.990302   0.993185   1.004064   \n",
       "2      0.978933   1.004575  1.001734  ...   0.990390   0.999041   1.009717   \n",
       "3      0.987380   1.000662  1.008790  ...   0.998990   1.000570   1.000848   \n",
       "4      0.990770   1.008702  1.007039  ...   0.999761   1.009224   0.995155   \n",
       "...         ...        ...       ...  ...        ...        ...        ...   \n",
       "7556  10.175972  11.955528  3.046099  ...  10.244042  11.620940  15.039789   \n",
       "7557  10.189886  11.821204  3.066815  ...  10.300259  11.727274  15.092744   \n",
       "7558  10.129744  11.941442  3.031465  ...  10.309688  11.729409  15.102757   \n",
       "7559  10.285005  11.933944  3.009685  ...  10.320842  11.784907  15.032742   \n",
       "7560  10.216499  11.984573  3.001561  ...  10.124251  11.785534  15.196286   \n",
       "\n",
       "           493       494        495       496       497       498       499  \n",
       "0     1.000000  1.000000   1.000000  1.000000  1.000000  1.000000  1.000000  \n",
       "1     1.002658  1.020943   1.017036  1.003328  0.997250  1.007918  0.991587  \n",
       "2     1.003231  1.011568   1.004497  0.996709  0.990932  1.020502  0.991067  \n",
       "3     1.000693  1.016930   1.014965  1.014573  0.986259  1.025444  0.994401  \n",
       "4     1.002037  1.008976   1.017552  1.016681  0.992582  1.020600  1.005796  \n",
       "...        ...       ...        ...       ...       ...       ...       ...  \n",
       "7556  5.496576  9.215160  16.758560  2.055260  9.319188  6.402480  3.177054  \n",
       "7557  5.499233  9.240690  16.659250  2.047357  9.311632  6.413340  3.208678  \n",
       "7558  5.540125  9.349191  16.565101  2.007416  9.356990  6.424694  3.239286  \n",
       "7559  5.549878  9.406175  16.610850  2.011950  9.319786  6.456777  3.296710  \n",
       "7560  5.629775  9.419682  16.591685  2.001679  9.318641  6.473551  3.297034  \n",
       "\n",
       "[7561 rows x 500 columns]"
      ]
     },
     "execution_count": 34,
     "metadata": {},
     "output_type": "execute_result"
    }
   ],
   "source": [
    "# Running a Monte Carlo simulation to forecast 30 years cumulative returns\n",
    "# YOUR CODE HERE!\n",
    "mc30.calc_cumulative_return()"
   ]
  },
  {
   "cell_type": "code",
   "execution_count": 35,
   "metadata": {},
   "outputs": [
    {
     "data": {
      "text/plain": [
       "<matplotlib.axes._subplots.AxesSubplot at 0x232821b3bc8>"
      ]
     },
     "execution_count": 35,
     "metadata": {},
     "output_type": "execute_result"
    },
    {
     "data": {
      "image/png": "[encoded data removed]",
      "text/plain": [
       "<Figure size 432x288 with 1 Axes>"
      ]
     },
     "metadata": {
      "needs_background": "light"
     },
     "output_type": "display_data"
    }
   ],
   "source": [
    "# Plot simulation outcomes\n",
    "# YOUR CODE HERE!\n",
    "mc30.plot_simulation()"
   ]
  },
  {
   "cell_type": "code",
   "execution_count": 36,
   "metadata": {},
   "outputs": [
    {
     "data": {
      "text/plain": [
       "<matplotlib.axes._subplots.AxesSubplot at 0x23282311688>"
      ]
     },
     "execution_count": 36,
     "metadata": {},
     "output_type": "execute_result"
    },
    {
     "data": {
      "image/png": "[encoded data removed]",
      "text/plain": [
       "<Figure size 432x288 with 1 Axes>"
      ]
     },
     "metadata": {
      "needs_background": "light"
     },
     "output_type": "display_data"
    }
   ],
   "source": [
    "# Plot probability distribution and confidence intervals\n",
    "# YOUR CODE HERE!\n",
    "mc30.plot_distribution()"
   ]
  },
  {
   "cell_type": "markdown",
   "metadata": {},
   "source": [
    "### Retirement Analysis"
   ]
  },
  {
   "cell_type": "code",
   "execution_count": 38,
   "metadata": {},
   "outputs": [
    {
     "data": {
      "text/plain": [
       "count    500.000000\n",
       "mean       9.637154\n",
       "std        7.141207\n",
       "min        1.160327\n",
       "25%        5.035321\n",
       "Name: 7560, dtype: float64"
      ]
     },
     "execution_count": 38,
     "metadata": {},
     "output_type": "execute_result"
    }
   ],
   "source": [
    "# Fetch summary statistics from the Monte Carlo simulation results\n",
    "# YOUR CODE HERE!\n",
    "summary_stats = mc30.summarize_cumulative_return()\n",
    "# Print summary statistics\n",
    "# YOUR CODE HERE!\n",
    "summary_stats.head()"
   ]
  },
  {
   "cell_type": "markdown",
   "metadata": {},
   "source": [
    "### Calculate the expected portfolio return at the 95% lower and upper confidence intervals based on a `$20,000` initial investment."
   ]
  },
  {
   "cell_type": "code",
   "execution_count": 39,
   "metadata": {},
   "outputs": [
    {
     "name": "stdout",
     "output_type": "stream",
     "text": [
      "There is a 95% chance that an initial investment of $20000 in the portfolio over the next 30 years will end within in the range of $41004.219136606305 and $495116.23690925573\n"
     ]
    }
   ],
   "source": [
    "# Set initial investment\n",
    "initial_investment = 20000\n",
    "\n",
    "# Use the lower and upper `95%` confidence intervals to calculate the range of the possible outcomes of our $20,000\n",
    "# YOUR CODE HERE!\n",
    "ci_lower = summary_stats[8] * initial_investment\n",
    "ci_upper = summary_stats[9] * initial_investment\n",
    "# Print results\n",
    "print(f\"There is a 95% chance that an initial investment of ${initial_investment} in the portfolio\"\n",
    "      f\" over the next 30 years will end within in the range of\"\n",
    "      f\" ${ci_lower} and ${ci_upper}\")"
   ]
  },
  {
   "cell_type": "markdown",
   "metadata": {},
   "source": [
    "### Calculate the expected portfolio return at the `95%` lower and upper confidence intervals based on a `50%` increase in the initial investment."
   ]
  },
  {
   "cell_type": "code",
   "execution_count": 40,
   "metadata": {},
   "outputs": [
    {
     "name": "stdout",
     "output_type": "stream",
     "text": [
      "There is a 95% chance that an initial investment of $30000.0 in the portfolio over the next 30 years will end within in the range of $61506.32870490946 and $742674.3553638837\n"
     ]
    }
   ],
   "source": [
    "# Set initial investment\n",
    "initial_investment = 20000 * 1.5\n",
    "\n",
    "# Use the lower and upper `95%` confidence intervals to calculate the range of the possible outcomes of our $30,000\n",
    "# YOUR CODE HERE!\n",
    "ci_lower = summary_stats[8] * initial_investment\n",
    "ci_upper = summary_stats[9] * initial_investment\n",
    "# Print results\n",
    "print(f\"There is a 95% chance that an initial investment of ${initial_investment} in the portfolio\"\n",
    "      f\" over the next 30 years will end within in the range of\"\n",
    "      f\" ${ci_lower} and ${ci_upper}\")"
   ]
  },
  {
   "cell_type": "markdown",
   "metadata": {},
   "source": [
    "## Optional Challenge - Early Retirement\n",
    "\n",
    "\n",
    "### Five Years Retirement Option"
   ]
  },
  {
   "cell_type": "code",
   "execution_count": null,
   "metadata": {},
   "outputs": [],
   "source": [
    "# Configuring a Monte Carlo simulation to forecast 5 years cumulative returns\n",
    "# YOUR CODE HERE!"
   ]
  },
  {
   "cell_type": "code",
   "execution_count": null,
   "metadata": {},
   "outputs": [],
   "source": [
    "# Running a Monte Carlo simulation to forecast 5 years cumulative returns\n",
    "# YOUR CODE HERE!"
   ]
  },
  {
   "cell_type": "code",
   "execution_count": null,
   "metadata": {},
   "outputs": [],
   "source": [
    "# Plot simulation outcomes\n",
    "# YOUR CODE HERE!"
   ]
  },
  {
   "cell_type": "code",
   "execution_count": null,
   "metadata": {},
   "outputs": [],
   "source": [
    "# Plot probability distribution and confidence intervals\n",
    "# YOUR CODE HERE!"
   ]
  },
  {
   "cell_type": "code",
   "execution_count": null,
   "metadata": {},
   "outputs": [],
   "source": [
    "# Fetch summary statistics from the Monte Carlo simulation results\n",
    "# YOUR CODE HERE!\n",
    "\n",
    "# Print summary statistics\n",
    "# YOUR CODE HERE!"
   ]
  },
  {
   "cell_type": "code",
   "execution_count": null,
   "metadata": {},
   "outputs": [],
   "source": [
    "# Set initial investment\n",
    "# YOUR CODE HERE!\n",
    "\n",
    "# Use the lower and upper `95%` confidence intervals to calculate the range of the possible outcomes of our $60,000\n",
    "# YOUR CODE HERE!\n",
    "\n",
    "# Print results\n",
    "print(f\"There is a 95% chance that an initial investment of ${initial_investment} in the portfolio\"\n",
    "      f\" over the next 5 years will end within in the range of\"\n",
    "      f\" ${ci_lower_five} and ${ci_upper_five}\")"
   ]
  },
  {
   "cell_type": "markdown",
   "metadata": {},
   "source": [
    "### Ten Years Retirement Option"
   ]
  },
  {
   "cell_type": "code",
   "execution_count": null,
   "metadata": {},
   "outputs": [],
   "source": [
    "# Configuring a Monte Carlo simulation to forecast 10 years cumulative returns\n",
    "# YOUR CODE HERE!"
   ]
  },
  {
   "cell_type": "code",
   "execution_count": null,
   "metadata": {},
   "outputs": [],
   "source": [
    "# Running a Monte Carlo simulation to forecast 10 years cumulative returns\n",
    "# YOUR CODE HERE!"
   ]
  },
  {
   "cell_type": "code",
   "execution_count": null,
   "metadata": {},
   "outputs": [],
   "source": [
    "# Plot simulation outcomes\n",
    "# YOUR CODE HERE!"
   ]
  },
  {
   "cell_type": "code",
   "execution_count": null,
   "metadata": {},
   "outputs": [],
   "source": [
    "# Plot probability distribution and confidence intervals\n",
    "# YOUR CODE HERE!"
   ]
  },
  {
   "cell_type": "code",
   "execution_count": null,
   "metadata": {},
   "outputs": [],
   "source": [
    "# Fetch summary statistics from the Monte Carlo simulation results\n",
    "# YOUR CODE HERE!\n",
    "\n",
    "# Print summary statistics\n",
    "# YOUR CODE HERE!"
   ]
  },
  {
   "cell_type": "code",
   "execution_count": null,
   "metadata": {},
   "outputs": [],
   "source": [
    "# Set initial investment\n",
    "# YOUR CODE HERE!\n",
    "\n",
    "# Use the lower and upper `95%` confidence intervals to calculate the range of the possible outcomes of our $60,000\n",
    "# YOUR CODE HERE!\n",
    "\n",
    "# Print results\n",
    "print(f\"There is a 95% chance that an initial investment of ${initial_investment} in the portfolio\"\n",
    "      f\" over the next 10 years will end within in the range of\"\n",
    "      f\" ${ci_lower_ten} and ${ci_upper_ten}\")"
   ]
  }
 ],
 "metadata": {
  "kernelspec": {
   "display_name": "Python 3",
   "language": "python",
   "name": "python3"
  },
  "language_info": {
   "codemirror_mode": {
    "name": "ipython",
    "version": 3
   },
   "file_extension": ".py",
   "mimetype": "text/x-python",
   "name": "python",
   "nbconvert_exporter": "python",
   "pygments_lexer": "ipython3",
   "version": "3.7.6"
  }
 },
 "nbformat": 4,
 "nbformat_minor": 4
}
